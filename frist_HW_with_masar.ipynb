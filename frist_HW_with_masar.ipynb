{
  "nbformat": 4,
  "nbformat_minor": 0,
  "metadata": {
    "colab": {
      "provenance": [],
      "authorship_tag": "ABX9TyNVuBiGu8aypQeIyBiBnKQ8",
      "include_colab_link": true
    },
    "kernelspec": {
      "name": "python3",
      "display_name": "Python 3"
    },
    "language_info": {
      "name": "python"
    }
  },
  "cells": [
    {
      "cell_type": "markdown",
      "metadata": {
        "id": "view-in-github",
        "colab_type": "text"
      },
      "source": [
        "<a href=\"https://colab.research.google.com/github/Muzon444/MASAR/blob/main/frist_HW_with_masar.ipynb\" target=\"_parent\"><img src=\"https://colab.research.google.com/assets/colab-badge.svg\" alt=\"Open In Colab\"/></a>"
      ]
    },
    {
      "cell_type": "code",
      "execution_count": null,
      "metadata": {
        "colab": {
          "base_uri": "https://localhost:8080/"
        },
        "id": "tYhwPOnFngtf",
        "outputId": "93e60e8f-db75-4409-e62d-b1f23ea349af"
      },
      "outputs": [
        {
          "output_type": "stream",
          "name": "stdout",
          "text": [
            "I'm  Muzon and my age 22 year , i am the best data scientist\n"
          ]
        }
      ],
      "source": [
        "my_name = 'Muzon'\n",
        "my_age= 22\n",
        "print(\"I'm \" , my_name, \"and my age\" , my_age ,\"year , i am the best data scientist\")"
      ]
    },
    {
      "cell_type": "code",
      "source": [
        "# تعريف متغيرات لعدد سنوات الخبرة وتقييم الأداء\n",
        "years_of_experience = 9\n",
        "performance_rating = \"excellent\"\n",
        "\n",
        "# جمل الشرط لحساب المكافأة بناءً على السنوات والتقييم\n",
        "if years_of_experience <= 10:\n",
        "    if performance_rating == \"excellent\":\n",
        "        bonus_percentage = 0.10\n",
        "    else:\n",
        "        bonus_percentage = 0.05\n",
        "else:\n",
        "    if performance_rating == \"excellent\":\n",
        "        bonus_percentage = 0.20\n",
        "    else:\n",
        "        bonus_percentage = 0.15\n",
        "\n",
        "# حساب قيمة المكافأة\n",
        "salary = 1000  # قيمة الراتب\n",
        "bonus = salary * bonus_percentage\n",
        "\n",
        "# طباعة قيمة المكافأة\n",
        "print(\"قيمة المكافأة هي:\", bonus)\n"
      ],
      "metadata": {
        "colab": {
          "base_uri": "https://localhost:8080/"
        },
        "id": "v2GJy_KIqBbs",
        "outputId": "fcd5224d-1fbe-4a7c-bdf0-e15218ae4c4d"
      },
      "execution_count": null,
      "outputs": [
        {
          "output_type": "stream",
          "name": "stdout",
          "text": [
            "قيمة المكافأة هي: 100.0\n"
          ]
        }
      ]
    },
    {
      "cell_type": "code",
      "source": [
        "num_star = int(input(\"Enter the number of stars: \"))\n",
        "for i in range(1, num_star + 1):\n",
        "    print(\"* \" * i)\n",
        "for i in range(num_star - 1, 0, -1):\n",
        "    print(\"* \" * i)\n"
      ],
      "metadata": {
        "colab": {
          "base_uri": "https://localhost:8080/"
        },
        "id": "etbXBWsYqBkA",
        "outputId": "5792a9c4-8ed4-4feb-fa7c-a1776c736534"
      },
      "execution_count": null,
      "outputs": [
        {
          "output_type": "stream",
          "name": "stdout",
          "text": [
            "Enter the number of stars: 8\n",
            "* \n",
            "* * \n",
            "* * * \n",
            "* * * * \n",
            "* * * * * \n",
            "* * * * * * \n",
            "* * * * * * * \n",
            "* * * * * * * * \n",
            "* * * * * * * \n",
            "* * * * * * \n",
            "* * * * * \n",
            "* * * * \n",
            "* * * \n",
            "* * \n",
            "* \n"
          ]
        }
      ]
    },
    {
      "cell_type": "code",
      "source": [
        "\n",
        "\n",
        "def is_prime(num):\n",
        "    if num <= 1:\n",
        "        return False\n",
        "    if num == 2:\n",
        "        return True\n",
        "    if num % 2 == 0:\n",
        "        return False\n",
        "    for i in range(3, int(num ** 0.5) + 1, 2):\n",
        "        if num % i == 0:\n",
        "            return False\n",
        "    return True\n",
        "\n",
        "count = 0\n",
        "num = 11\n",
        "\n",
        "while count < 3:\n",
        "    if is_prime(num):\n",
        "        print(num)\n",
        "        count += 1\n",
        "    num += 1"
      ],
      "metadata": {
        "colab": {
          "base_uri": "https://localhost:8080/"
        },
        "id": "o7_rnsSjrVaJ",
        "outputId": "96337edb-9d5f-4262-f62e-723939631474"
      },
      "execution_count": null,
      "outputs": [
        {
          "output_type": "stream",
          "name": "stdout",
          "text": [
            "11\n",
            "13\n",
            "17\n"
          ]
        }
      ]
    },
    {
      "cell_type": "markdown",
      "source": [
        "# New Section"
      ],
      "metadata": {
        "id": "Ta_XKGYB0fsY"
      }
    }
  ]
}